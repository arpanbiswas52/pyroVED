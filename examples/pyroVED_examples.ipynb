{
  "nbformat": 4,
  "nbformat_minor": 0,
  "metadata": {
    "colab": {
      "name": "pyroVED_examples.ipynb",
      "provenance": [],
      "authorship_tag": "ABX9TyMBlCHo6lKolZMkZ+aQPurd",
      "include_colab_link": true
    },
    "kernelspec": {
      "name": "python3",
      "display_name": "Python 3"
    },
    "language_info": {
      "name": "python"
    }
  },
  "cells": [
    {
      "cell_type": "markdown",
      "metadata": {
        "id": "view-in-github",
        "colab_type": "text"
      },
      "source": [
        "<a href=\"https://colab.research.google.com/github/ziatdinovmax/pyroVED/blob/main/examples/pyroVED_examples.ipynb\" target=\"_parent\"><img src=\"https://colab.research.google.com/assets/colab-badge.svg\" alt=\"Open In Colab\"/></a>"
      ]
    },
    {
      "cell_type": "markdown",
      "metadata": {
        "id": "KPdvJXU4sLfq"
      },
      "source": [
        "## pyroVED: Interactive Examples\n",
        "\n",
        "The easiest way to start using pyroVED is via [Google Colab](https://colab.research.google.com/notebooks/intro.ipynb), which is a free research tool from Google for machine learning education and research built on top of Jupyter Notebook. The following notebooks can be executed in Google Colab by simply clicking on \"Open in Colab\" icon:\n",
        "<br><br>\n",
        "\n",
        "* Shift-VAE: Application to 1D spectra with arbitrary offset in peak position [![Open In Colab](https://colab.research.google.com/assets/colab-badge.svg)](https://colab.research.google.com/github/ziatdinovmax/pyroVED/blob/master/examples/shiftVAE.ipynb)\n",
        "\n",
        "* r-VAE: Application to arbitrary rotated 2D images [![Open In Colab](https://colab.research.google.com/assets/colab-badge.svg)](https://colab.research.google.com/github/ziatdinovmax/pyroVED/blob/master/examples/rVAE.ipynb)\n",
        "\n",
        "* j(r)-VAE: Learning (jointly) discrete and continuous representations of the arbitrary rotated image data [![Open In Colab](https://colab.research.google.com/assets/colab-badge.svg)](https://colab.research.google.com/github/ziatdinovmax/pyroVED/blob/main/examples/jrVAE.ipynb)"
      ]
    }
  ]
}